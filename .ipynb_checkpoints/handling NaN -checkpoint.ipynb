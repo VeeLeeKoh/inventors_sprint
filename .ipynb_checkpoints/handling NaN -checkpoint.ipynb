{
 "cells": [
  {
   "cell_type": "code",
   "execution_count": 4,
   "metadata": {},
   "outputs": [],
   "source": [
    "import pandas as pd\n",
    "import numpy as np"
   ]
  },
  {
   "cell_type": "code",
   "execution_count": 10,
   "metadata": {},
   "outputs": [
    {
     "data": {
      "text/plain": [
       "Date                                                                                                                                         0\n",
       "Weekly U.S. Product Supplied of Petroleum Products  (Thousand Barrels per Day)                                                             850\n",
       "Weekly U.S. Product Supplied of Finished Motor Gasoline  (Thousand Barrels per Day)                                                        853\n",
       "Weekly U.S. Product Supplied of Kerosene-Type Jet Fuel  (Thousand Barrels per Day)                                                         853\n",
       "Weekly U.S. Product Supplied of Distillate Fuel Oil  (Thousand Barrels per Day)                                                            853\n",
       "Weekly U.S. Product Supplied of Residual Fuel Oil  (Thousand Barrels per Day)                                                              853\n",
       "Weekly U.S. Product Supplied of Propane and Propylene  (Thousand Barrels per Day)                                                         1011\n",
       "Weekly U.S. Product Supplied of Other Oils  (Thousand Barrels per Day)                                                                    1011\n",
       "Weekly U.S. Exports of Crude Oil and Petroleum Products  (Thousand Barrels per Day)                                                        853\n",
       "Weekly U.S. Exports of Crude Oil  (Thousand Barrels per Day)                                                                               853\n",
       "Weekly U.S. Exports of Total Petroleum Products  (Thousand Barrels per Day)                                                                853\n",
       "Weekly U.S. Exports of Finished Motor Gasoline  (Thousand Barrels per Day)                                                                1085\n",
       "Weekly U.S. Exports of Kerosene-Type Jet Fuel  (Thousand Barrels per Day)                                                                 1085\n",
       "Weekly U.S. Exports of Total Distillate  (Thousand Barrels per Day)                                                                       1085\n",
       "Weekly U.S. Exports of Residual Fuel Oil  (Thousand Barrels per Day)                                                                      1085\n",
       "Weekly U.S. Exports of Propane and Propylene  (Thousand Barrels per Day)                                                                  1085\n",
       "Weekly U.S. Exports of Other Oils  (Thousand Barrels per Day)                                                                             1085\n",
       "Weekly U.S. Imports of Crude Oil and Petroleum Products  (Thousand Barrels per Day)                                                        853\n",
       "Weekly U.S. Imports of Crude Oil  (Thousand Barrels per Day)                                                                               840\n",
       "Weekly U.S. Commercial Crude Oil Imports Excluding SPR  (Thousand Barrels per Day)                                                         751\n",
       "Weekly U.S. Crude Oil Imports by SPR  (Thousand Barrels per Day)                                                                           751\n",
       "Weekly U.S. Crude Oil Imports for SPR by Others  (Thousand Barrels per Day)                                                               1085\n",
       "Weekly U.S. Imports of Total Petroleum Products  (Thousand Barrels per Day)                                                                840\n",
       "Weekly U.S. Imports of Total Gasoline  (Thousand Barrels per Day)                                                                          751\n",
       "Weekly U.S. Imports of Finished Motor Gasoline  (Thousand Barrels per Day)                                                                 888\n",
       "Weekly U.S. Imports of Reformulated Motor Gasoline  (Thousand Barrels per Day)                                                             882\n",
       "Weekly U.S. Imports of Reformulated Motor Gasoline with Fuel ALcohol  (Thousand Barrels per Day)                                          1012\n",
       "Weekly U.S. Imports of Other Reformulated Motor Gasoline  (Thousand Barrels per Day)                                                      1012\n",
       "Weekly U.S. Imports of Conventional Motor Gasoline  (Thousand Barrels per Day)                                                             888\n",
       "Weekly U.S. Imports of Conventional Motor Gasoline with Fuel Ethanol  (Thousand Barrels per Day)                                          1012\n",
       "                                                                                                                                          ... \n",
       "Alaska North Slope Crude Oil Production (Thousand Barrels)                                                                                 735\n",
       "Arizona Field Production of Crude Oil (Thousand Barrels)                                                                                   735\n",
       "California Field Production of Crude Oil (Thousand Barrels)                                                                                735\n",
       "Nevada Field Production of Crude Oil (Thousand Barrels)                                                                                    735\n",
       "Federal Offshore PADD 5 Field Production of Crude Oil (Thousand Barrels)                                                                   735\n",
       "Weekly U.S. Refiner Net Input of Crude Oil  (Thousand Barrels per Day)                                                                     751\n",
       "Weekly U.S. Gross Inputs into Refineries  (Thousand Barrels per Day)                                                                       840\n",
       "Weekly U. S. Operable Crude Oil Distillation Capacity   (Thousand Barrels per Calendar Day)                                                840\n",
       "Weekly U.S. Percent Utilization of Refinery Operable Capacity (Percent)                                                                    850\n",
       "Weekly U.S. Refiner and Blender Adjusted Net Production of Finished Motor Gasoline  (Thousand Barrels per Day)                             751\n",
       "Weekly U.S. Refiner and Blender Net Production of Finished Motor Gasoline  (Thousand Barrels per Day)                                      751\n",
       "Weekly U.S. Refiner and Blender Net Production of Reformulated Motor Gasoline  (Thousand Barrels per Day)                                  882\n",
       "Weekly U.S. Refiner and Blender Net Production of Finished Reformulated Motor Gasoline with Ethanol  (Thousand Barrels per Day)           1012\n",
       "Weekly U.S. Refiner and Blender Net Production of Other Finished Reformulated Motor Gasoline  (Thousand Barrels per Day)                  1012\n",
       "Weekly U.S. Refiner and Blender Net Production of Conventional Motor Gasoline  (Thousand Barrels per Day)                                  888\n",
       "Weekly U.S. Refiner and Blender Net Production of Finished Conventional Motor Gasoline with Ethanol  (Thousand Barrels per Day)           1012\n",
       "Weekly U.S. Refiner and Blender Net Production of Finished Conventional Motor Gasoline, Ed 55 and Lower  (Thousand Barrels per Day)       1085\n",
       "Weekly U.S. Refiner and Blender Net Production of Finished Conventional Motor Gasoline, Greater than Ed 55  (Thousand Barrels per Day)    1085\n",
       "Weekly U.S. Refiner and Blender Net Production of Other Finished Conventional Motor Gasoline  (Thousand Barrels per Day)                  1012\n",
       "Weekly U.S. Supply Adjustment of Finished Motor Gasoline  (Thousand Barrels per Day)                                                      1085\n",
       "Weekly U.S. Refiner and Blender Net Production of Kerosene-Type Jet Fuel  (Thousand Barrels per Day)                                       751\n",
       "Weekly U.S.  Refiner and Blender Net Production of Commercial Kerosene-Type Jet Fuel  (Thousand Barrels per Day)                           882\n",
       "Weekly U.S.  Refiner and Blender Net Production of Military Kerosene-Type Jet Fuel  (Thousand Barrels per Day)                             882\n",
       "Weekly U.S. Refiner and Blender Net Production of Distillate Fuel Oil  (Thousand Barrels per Day)                                          751\n",
       "Weekly U.S. Refiner and Blender Net Production of Distillate Fuel Oil, 0 to 15 ppm Sulfur  (Thousand Barrels per Day)                     1011\n",
       "Weekly U.S. Production of Distillate Fuel Oil, Greater than 15 to 500 ppm Sulfur  (Thousand Barrels per Day)                               882\n",
       "Weekly U.S.  Refiner and Blender Net Production of Distillate Fuel Oil Greater than 500 ppm Sulfur  (Thousand Barrels per Day)             882\n",
       "Weekly U.S. Refiner and Blender Net Production of Residual Fuel Oil  (Thousand Barrels per Day)                                            751\n",
       "Weekly U.S. Refiner, Blender, and Gas Plant Net Production of Propane and Propylene  (Thousand Barrels per Day)                           1011\n",
       "Cushing, OK WTI Spot Price FOB (Dollars per Barrel)                                                                                        792\n",
       "Length: 119, dtype: int64"
      ]
     },
     "execution_count": 10,
     "metadata": {},
     "output_type": "execute_result"
    }
   ],
   "source": [
    "resampled = pd.read_csv(\"resampled.csv\")\n",
    "\n",
    "resampled.isna().sum()"
   ]
  }
 ],
 "metadata": {
  "kernelspec": {
   "display_name": "Python 3",
   "language": "python",
   "name": "python3"
  },
  "language_info": {
   "codemirror_mode": {
    "name": "ipython",
    "version": 3
   },
   "file_extension": ".py",
   "mimetype": "text/x-python",
   "name": "python",
   "nbconvert_exporter": "python",
   "pygments_lexer": "ipython3",
   "version": "3.6.8"
  }
 },
 "nbformat": 4,
 "nbformat_minor": 2
}
