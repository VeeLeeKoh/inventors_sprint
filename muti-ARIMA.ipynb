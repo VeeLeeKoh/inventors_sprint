{
 "cells": [
  {
   "cell_type": "code",
   "execution_count": 23,
   "metadata": {},
   "outputs": [],
   "source": [
    "import numpy as np\n",
    "import pandas as pd\n",
    "from matplotlib import pyplot as plt\n",
    "from statsmodels.tsa.stattools import adfuller\n",
    "from statsmodels.tsa.seasonal import seasonal_decompose\n",
    "from statsmodels.tsa.arima_model import ARIMA\n",
    "from pandas.plotting import register_matplotlib_converters\n",
    "import itertools\n",
    "from sklearn.metrics import r2_score\n",
    "import scipy\n",
    "register_matplotlib_converters()"
   ]
  },
  {
   "cell_type": "code",
   "execution_count": 24,
   "metadata": {},
   "outputs": [],
   "source": [
    "# set datetime index\n",
    "df = pd.read_csv(\"Sprint_Resampled Data.csv\")\n",
    "df['Date'] = df['Date'].apply(pd.to_datetime)\n",
    "df = df.set_index('Date')"
   ]
  },
  {
   "cell_type": "code",
   "execution_count": 25,
   "metadata": {},
   "outputs": [],
   "source": [
    "df = df['1991-3': '2019-5'].dropna(axis=1)\n",
    "y = df[\"Cushing, OK WTI Spot Price FOB (Dollars per Barrel)\"]"
   ]
  },
  {
   "cell_type": "code",
   "execution_count": 28,
   "metadata": {},
   "outputs": [
    {
     "name": "stdout",
     "output_type": "stream",
     "text": [
      "Cushing, OK WTI Spot Price FOB (Dollars per Barrel)\n",
      "1.0\n",
      "U.S. Field Production of Crude Oil (Thousand Barrels)\n",
      "0.02864021860883688\n",
      "Weekly U.S. Product Supplied of Petroleum Products  (Thousand Barrels per Day)\n",
      "0.39073196376846825\n",
      "Weekly U.S. Product Supplied of Finished Motor Gasoline  (Thousand Barrels per Day)\n",
      "0.5865958663816563\n",
      "Weekly U.S. Product Supplied of Kerosene-Type Jet Fuel  (Thousand Barrels per Day)\n",
      "-0.08717591516763734\n",
      "Weekly U.S. Product Supplied of Distillate Fuel Oil  (Thousand Barrels per Day)\n",
      "0.5059715127010977\n",
      "Weekly U.S. Product Supplied of Residual Fuel Oil  (Thousand Barrels per Day)\n",
      "-0.6179121455608487\n",
      "Weekly U.S. Exports of Crude Oil and Petroleum Products  (Thousand Barrels per Day)\n",
      "0.3885813182796322\n",
      "Weekly U.S. Exports of Crude Oil  (Thousand Barrels per Day)\n",
      "0.06632897972077556\n",
      "Weekly U.S. Exports of Total Petroleum Products  (Thousand Barrels per Day)\n",
      "0.48252286650416637\n",
      "Weekly U.S. Imports of Crude Oil and Petroleum Products  (Thousand Barrels per Day)\n",
      "0.37825800359016987\n",
      "Weekly U.S. Imports of Crude Oil  (Thousand Barrels per Day)\n",
      "0.3260179037582784\n",
      "Weekly U.S. Commercial Crude Oil Imports Excluding SPR  (Thousand Barrels per Day)\n",
      "0.3275817199759707\n",
      "Weekly U.S. Crude Oil Imports by SPR  (Thousand Barrels per Day)\n",
      "-0.2092790822102813\n",
      "Weekly U.S. Imports of Total Petroleum Products  (Thousand Barrels per Day)\n",
      "0.42183465500334516\n",
      "Weekly U.S. Imports of Total Gasoline  (Thousand Barrels per Day)\n",
      "0.5046512846795442\n",
      "Weekly U.S. Imports of Gasoline Blending Components  (Thousand Barrels per Day)\n",
      "0.7598265643632018\n",
      "Weekly U.S. Imports of Kerosene-Type Jet Fuel  (Thousand Barrels per Day)\n",
      "-0.00041727612820066103\n",
      "Weekly U.S. Imports of Distillate Fuel Oil  (Thousand Barrels per Day)\n",
      "-0.1675817085816289\n",
      "Weekly U.S. Imports of Residual Fuel Oil  (Thousand Barrels per Day)\n",
      "0.08574086366306591\n",
      "Weekly U.S. Refiner Net Input of Crude Oil  (Thousand Barrels per Day)\n",
      "0.31100127720386944\n",
      "Weekly U.S. Gross Inputs into Refineries  (Thousand Barrels per Day)\n",
      "0.37060263747922007\n",
      "Weekly U. S. Operable Crude Oil Distillation Capacity   (Thousand Barrels per Calendar Day)\n",
      "0.7153595176449018\n",
      "Weekly U.S. Percent Utilization of Refinery Operable Capacity (Percent)\n",
      "-0.43769648349403784\n",
      "Weekly U.S. Refiner and Blender Adjusted Net Production of Finished Motor Gasoline  (Thousand Barrels per Day)\n",
      "0.6311911462637506\n",
      "Weekly U.S. Refiner and Blender Net Production of Finished Motor Gasoline  (Thousand Barrels per Day)\n",
      "0.627374359886748\n",
      "Weekly U.S. Refiner and Blender Net Production of Kerosene-Type Jet Fuel  (Thousand Barrels per Day)\n",
      "0.09127019098019303\n",
      "Weekly U.S. Refiner and Blender Net Production of Distillate Fuel Oil  (Thousand Barrels per Day)\n",
      "0.6762231676105039\n",
      "Weekly U.S. Refiner and Blender Net Production of Residual Fuel Oil  (Thousand Barrels per Day)\n",
      "-0.608948342260393\n"
     ]
    },
    {
     "data": {
      "text/html": [
       "<div>\n",
       "<style scoped>\n",
       "    .dataframe tbody tr th:only-of-type {\n",
       "        vertical-align: middle;\n",
       "    }\n",
       "\n",
       "    .dataframe tbody tr th {\n",
       "        vertical-align: top;\n",
       "    }\n",
       "\n",
       "    .dataframe thead th {\n",
       "        text-align: right;\n",
       "    }\n",
       "</style>\n",
       "<table border=\"1\" class=\"dataframe\">\n",
       "  <thead>\n",
       "    <tr style=\"text-align: right;\">\n",
       "      <th></th>\n",
       "      <th>col</th>\n",
       "      <th>r2</th>\n",
       "    </tr>\n",
       "  </thead>\n",
       "  <tbody>\n",
       "  </tbody>\n",
       "</table>\n",
       "</div>"
      ],
      "text/plain": [
       "Empty DataFrame\n",
       "Columns: [col, r2]\n",
       "Index: []"
      ]
     },
     "execution_count": 28,
     "metadata": {},
     "output_type": "execute_result"
    }
   ],
   "source": [
    "data = {\"col\":[],\"r2\":[]}\n",
    "r2df = pd.DataFrame(data)\n",
    "for col in df.columns:\n",
    "    slope, intercept, r_value, p_value, std_err = scipy.stats.linregress(df[col], y)\n",
    "    print(col)\n",
    "    print(r_value)\n",
    "    r2df.append(pd.Series([col,r_value]),ignore_index=True)\n",
    "r2frame"
   ]
  },
  {
   "cell_type": "code",
   "execution_count": 29,
   "metadata": {},
   "outputs": [
    {
     "data": {
      "text/plain": [
       "<matplotlib.collections.PathCollection at 0x7fe5dd671128>"
      ]
     },
     "execution_count": 29,
     "metadata": {},
     "output_type": "execute_result"
    },
    {
     "data": {
      "image/png": "[encoded data removed]",
      "text/plain": [
       "<Figure size 432x288 with 1 Axes>"
      ]
     },
     "metadata": {
      "needs_background": "light"
     },
     "output_type": "display_data"
    }
   ],
   "source": [
    "plt.scatter(df[\"Cushing, OK WTI Spot Price FOB (Dollars per Barrel)\"],df[\"Weekly U.S. Imports of Gasoline Blending Components  (Thousand Barrels per Day)\"])"
   ]
  },
  {
   "cell_type": "code",
   "execution_count": 32,
   "metadata": {},
   "outputs": [
    {
     "data": {
      "text/plain": [
       "<matplotlib.collections.PathCollection at 0x7fe5dd5c9668>"
      ]
     },
     "execution_count": 32,
     "metadata": {},
     "output_type": "execute_result"
    },
    {
     "data": {
      "image/png": "[encoded data removed]",
      "text/plain": [
       "<Figure size 432x288 with 1 Axes>"
      ]
     },
     "metadata": {
      "needs_background": "light"
     },
     "output_type": "display_data"
    }
   ],
   "source": [
    "plt.scatter(df[\"Cushing, OK WTI Spot Price FOB (Dollars per Barrel)\"],df[\"Weekly U. S. Operable Crude Oil Distillation Capacity   (Thousand Barrels per Calendar Day)\"],cmap='jet')"
   ]
  },
  {
   "cell_type": "code",
   "execution_count": null,
   "metadata": {},
   "outputs": [],
   "source": []
  }
 ],
 "metadata": {
  "kernelspec": {
   "display_name": "Python 3",
   "language": "python",
   "name": "python3"
  },
  "language_info": {
   "codemirror_mode": {
    "name": "ipython",
    "version": 3
   },
   "file_extension": ".py",
   "mimetype": "text/x-python",
   "name": "python",
   "nbconvert_exporter": "python",
   "pygments_lexer": "ipython3",
   "version": "3.6.8"
  }
 },
 "nbformat": 4,
 "nbformat_minor": 2
}
