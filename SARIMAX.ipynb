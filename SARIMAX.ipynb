{
 "cells": [
  {
   "cell_type": "code",
   "execution_count": 31,
   "metadata": {},
   "outputs": [],
   "source": [
    "import numpy as np\n",
    "import pandas as pd\n",
    "from matplotlib import pyplot as plt\n",
    "from statsmodels.tsa.stattools import adfuller\n",
    "from statsmodels.tsa.seasonal import seasonal_decompose\n",
    "from statsmodels.tsa.statespace.sarimax import SARIMAX\n",
    "from pandas.plotting import register_matplotlib_converters\n",
    "import itertools"
   ]
  },
  {
   "cell_type": "code",
   "execution_count": 32,
   "metadata": {},
   "outputs": [],
   "source": [
    "# set datetime index\n",
    "df = pd.read_csv(\"Sprint_Resampled Data.csv\")\n",
    "df['Date'] = df['Date'].apply(pd.to_datetime)\n",
    "df = df.set_index('Date')\n",
    "df.columns\n",
    "df = df[\"Cushing, OK WTI Spot Price FOB (Dollars per Barrel)\"]\n",
    "df = df.dropna()\n",
    "df = df['1991' : '2019']"
   ]
  },
  {
   "cell_type": "code",
   "execution_count": 33,
   "metadata": {},
   "outputs": [
    {
     "name": "stderr",
     "output_type": "stream",
     "text": [
      "/home/yuntong/anaconda3/lib/python3.7/site-packages/statsmodels/tsa/base/tsa_model.py:165: ValueWarning: No frequency information was provided, so inferred frequency M will be used.\n",
      "  % freq, ValueWarning)\n"
     ]
    }
   ],
   "source": [
    "train = df[:int(0.9*(len(df)))]\n",
    "valid = df[int(0.9*(len(df))):]\n",
    "order = (1,2,1)\n",
    "seasonal_order = (1,1,1,12)\n",
    "model = SARIMAX(train,order = order, seasonal_order=seasonal_order,trend = 'n')\n",
    "# fit model\n",
    "model_fit = model.fit()\n",
    "# one step forecast\n",
    "# Model[[(0, 0, 0), (1, 0, 1, 0), 'n']] 5.253"
   ]
  },
  {
   "cell_type": "code",
   "execution_count": 34,
   "metadata": {},
   "outputs": [
    {
     "data": {
      "text/plain": [
       "2016-10-31    44.360409\n",
       "2016-11-30    42.764748\n",
       "2016-12-31    40.535066\n",
       "2017-01-31    39.910054\n",
       "2017-02-28    39.929718\n",
       "2017-03-31    42.417422\n",
       "2017-04-30    43.834748\n",
       "2017-05-31    44.774492\n",
       "2017-06-30    45.454701\n",
       "2017-07-31    45.296979\n",
       "2017-08-31    44.626755\n",
       "2017-09-30    44.105511\n",
       "2017-10-31    42.825150\n",
       "2017-11-30    41.308963\n",
       "2017-12-31    39.309432\n",
       "2018-01-31    39.118504\n",
       "2018-02-28    39.250341\n",
       "2018-03-31    41.273237\n",
       "2018-04-30    42.507189\n",
       "2018-05-31    42.957630\n",
       "2018-06-30    43.495921\n",
       "2018-07-31    43.701275\n",
       "2018-08-31    42.948343\n",
       "2018-09-30    42.321958\n",
       "2018-10-31    40.985965\n",
       "2018-11-30    39.465263\n",
       "2018-12-31    37.475539\n",
       "2019-01-31    37.313798\n",
       "2019-02-28    37.444231\n",
       "2019-03-31    39.410889\n",
       "2019-04-30    40.615348\n",
       "2019-05-31    41.007222\n",
       "2019-06-30    41.519960\n",
       "2019-07-31    41.747754\n",
       "2019-08-31    40.974897\n",
       "Freq: M, dtype: float64"
      ]
     },
     "execution_count": 34,
     "metadata": {},
     "output_type": "execute_result"
    }
   ],
   "source": [
    "yhat = model_fit.predict(start=valid.index[0], end=valid.index[-1])\n",
    "yhat"
   ]
  },
  {
   "cell_type": "code",
   "execution_count": 35,
   "metadata": {},
   "outputs": [
    {
     "data": {
      "image/png": "[encoded data removed]",
      "text/plain": [
       "<Figure size 432x288 with 1 Axes>"
      ]
     },
     "metadata": {
      "needs_background": "light"
     },
     "output_type": "display_data"
    }
   ],
   "source": [
    "plt.plot(yhat, color = 'blue', label = 'yhat')\n",
    "plt.plot(valid, color = 'red', label = 'valid')\n",
    "plt.plot(train,color = 'red')\n",
    "plt.title('predict')\n",
    "plt.show()"
   ]
  },
  {
   "cell_type": "code",
   "execution_count": null,
   "metadata": {},
   "outputs": [],
   "source": []
  },
  {
   "cell_type": "code",
   "execution_count": null,
   "metadata": {},
   "outputs": [],
   "source": []
  },
  {
   "cell_type": "code",
   "execution_count": null,
   "metadata": {},
   "outputs": [],
   "source": []
  }
 ],
 "metadata": {
  "kernelspec": {
   "display_name": "Python 3",
   "language": "python",
   "name": "python3"
  },
  "language_info": {
   "codemirror_mode": {
    "name": "ipython",
    "version": 3
   },
   "file_extension": ".py",
   "mimetype": "text/x-python",
   "name": "python",
   "nbconvert_exporter": "python",
   "pygments_lexer": "ipython3",
   "version": "3.7.3"
  }
 },
 "nbformat": 4,
 "nbformat_minor": 2
}
